{
 "cells": [
  {
   "cell_type": "markdown",
   "id": "bfc69471",
   "metadata": {},
   "source": [
    "https://dados.gov.br/dados/conjuntos-dados/cadastro-nacional-da-pessoa-juridica-cnpj"
   ]
  },
  {
   "cell_type": "code",
   "execution_count": 1,
   "id": "266d3b00",
   "metadata": {},
   "outputs": [],
   "source": [
    "import pandas as pd\n",
    "import time"
   ]
  },
  {
   "cell_type": "markdown",
   "id": "2b04922b",
   "metadata": {},
   "source": [
    "# Inicio - Consulta CNAE"
   ]
  },
  {
   "cell_type": "code",
   "execution_count": 2,
   "id": "7ccc55e3",
   "metadata": {},
   "outputs": [],
   "source": [
    "# def format_cnpj_completo():\n",
    "\n",
    "# formatando o numero do cnpj completo\n",
    "# n = df['CNPJ_BASICO'].astype(str).apply(lambda x : len(x))[0]\n",
    "# if n == 8:\n",
    "# df['cnpj_completo'] =   str(df['CNPJ_BASICO'].tolist()[0])[0:2] + '.' + str(df['CNPJ_BASICO'].tolist()[0])[2:5] + '.'  + \\\n",
    "# str(df['CNPJ_BASICO'].tolist()[0])[5:] +'/000' +  str(df['CNPJ_ORDEM'].tolist()[0]) + '-' + str(df['CNPJ_DV'].tolist()[0])\n",
    "# else:\n",
    "# df['cnpj_completo'] = '0' + str(df['CNPJ_BASE_7'].tolist()[0])[0] + '.' + str(df['CNPJ_BASE_7'].tolist()[0])[1:4] + '.' + \\\n",
    "# str(df['CNPJ_BASE_7'].tolist()[0])[4:] +'/000' +  str(df['CNPJ_ORDEM'].tolist()[0]) + '-' + str(df['CNPJ_DV'].tolist()[0])\n",
    "# return"
   ]
  },
  {
   "cell_type": "code",
   "execution_count": 3,
   "id": "0850ce3b",
   "metadata": {},
   "outputs": [],
   "source": [
    "# le um arquivo generico,importa o header e filtra as colunas e consulta o cnpj\n",
    "def Consulta_cnpj_arquivo(arq_csv , cnpj , nome_colunas,  col_filter ):\n",
    "    chunk_size = 1000000\n",
    "    batch_no=0\n",
    "    df_output = pd.DataFrame()\n",
    "    \n",
    "    for chunk in pd.read_csv(arq_csv, sep=';' ,  header= None , encoding='ISO-8859-1', low_memory=False, chunksize = chunk_size, iterator = True):\n",
    "        chunk.columns = nome_colunas\n",
    "        chunk=chunk[col_filter]\n",
    "        chunk = chunk.loc[chunk['CNPJ_BASICO'].isin(cnpj)]\n",
    "        df_output = pd.concat([df_output,chunk ],axis = 0)\n",
    "       \n",
    "    return df_output\n",
    "\n",
    "\n",
    "# ================================================================================================================\n",
    "\n",
    "def Consulta_cnpj_lista_arquivos(input_cnpj , lista_arquivos, header_arquivos , filtro_colunas):\n",
    "    start_time = time.time()\n",
    "    df_output=pd.DataFrame()\n",
    "      \n",
    "    \n",
    "    for ARQUIVO in lista_arquivos:\n",
    "           df_output = pd.concat([df_output,\n",
    "                                              Consulta_cnpj_arquivo(arq_csv=ARQUIVO,\n",
    "                                                                                 cnpj=input_cnpj,\n",
    "                                                                                 nome_colunas=header_arquivos,\n",
    "                                                                                 col_filter=filtro_colunas)],\n",
    "                                 axis=0)\n",
    "#     start_time = time.time() lalalala\n",
    "    df_output.fillna('-')\n",
    "    end_time = time.time()\n",
    "    print(f'O Programa levou {round(end_time-start_time,2)} segundos ou {round((end_time-start_time)/60,2)} minutos - Arquivo do tipo: {ARQUIVO}')\n",
    "    return df_output\n",
    "\n",
    "# ================================================================================================================\n",
    "\n",
    "\n",
    "\n",
    "\n",
    "# ================================================================================================================\n",
    "\n",
    "def Consulta_cnpj(UM_CNPJ):\n",
    "   \n",
    "    #     cnpj =[44343606]\n",
    "    cnpj =  UM_CNPJ\n",
    "\n",
    "    # Lista de arquivos para importar\n",
    "    \n",
    "    arquivo_empresas = ['K3241.K03200Y0.D210080.EMPRECSV.csv','K3241.K03200Y1.D210081.EMPRECSV.csv',\n",
    "                        'K3241.K03200Y2.D210082.EMPRECSV.csv','K3241.K03200Y3.D210083.EMPRECSV.csv',\n",
    "                        'K3241.K03200Y4.D210084.EMPRECSV.csv','K3241.K03200Y5.D210085.EMPRECSV.csv',\n",
    "                        'K3241.K03200Y6.D210086.EMPRECSV.csv','K3241.K03200Y7.D210087.EMPRECSV.csv',\n",
    "                        'K3241.K03200Y8.D210088.EMPRECSV.csv','K3241.K03200Y9.D210089.EMPRECSV.csv']\n",
    "    \n",
    "    arquivos_estabelecimento = ['K3241.K03200Y0.D21119.ESTABELE.csv',\n",
    "                                'K3241.K03200Y1.D21119.ESTABELE.csv',# esse arquivo é que tava faltando\n",
    "                                'K3241.K03200Y2.D21119.ESTABELE.csv',\n",
    "                                'K3241.K03200Y3.D21119.ESTABELE.csv',\n",
    "                                'K3241.K03200Y4.D21119.ESTABELE.csv',\n",
    "                                'K3241.K03200Y5.D21119.ESTABELE.csv',# esse arquivo é que tava faltando\n",
    "                                'K3241.K03200Y6.D21119.ESTABELE.csv',\n",
    "                                'K3241.K03200Y7.D21119.ESTABELE.csv',\n",
    "                                'K3241.K03200Y8.D21119.ESTABELE.csv',\n",
    "                                'K3241.K03200Y9.D21119.ESTABELE.csv']\n",
    "      \n",
    "    \n",
    "    arquivos_socios = ['K3241.K03200Y0.D210080.SOCIOCSV.csv','K3241.K03200Y1.D210081.SOCIOCSV.csv',\n",
    "                      'K3241.K03200Y2.D210082.SOCIOCSV.csv','K3241.K03200Y3.D210083.SOCIOCSV.csv',\n",
    "                      'K3241.K03200Y4.D210084.SOCIOCSV.csv','K3241.K03200Y5.D210085.SOCIOCSV.csv',\n",
    "                      'K3241.K03200Y6.D210086.SOCIOCSV.csv','K3241.K03200Y7.D210087.SOCIOCSV.csv',\n",
    "                      'K3241.K03200Y8.D210088.SOCIOCSV.csv','K3241.K03200Y9.D210089.SOCIOCSV.csv']\n",
    "#    --------------------------------------------------------------------------------------------------\n",
    "    # INPUTS EMPRESAS\n",
    "    header  =  ['CNPJ_BASICO', 'RAZAO_SOCIAL_NOME_EMPRESARIAL','NATUREZA_JURIDICA','QUALIFICACAO_RESPONSAVEL',\n",
    "                        'CAPITAL_SOCIAL','PORTE_EMPRESA','ENTE_FEDERATIVO_RESPONSAVEL']\n",
    "    colunas_selecionadas = header\n",
    "    \n",
    "    # RODANDO A CONSULTA\n",
    "    empresas = Consulta_cnpj_lista_arquivos(input_cnpj=cnpj , \n",
    "                                            lista_arquivos=arquivo_empresas , \n",
    "                                            header_arquivos=header , \n",
    "                                            filtro_colunas=colunas_selecionadas)\n",
    "#    --------------------------------------------------------------------------------------------------\n",
    "    # INPUTS ESTABELECIMENTOS\n",
    "    header  =  [ 'CNPJ_BASICO', 'CNPJ_ORDEM','CNPJ_DV','ID_MATRIZ_FILIAL','NOME_FANTASIA','SITUACAO_CADASTRAL',\n",
    "                'DT_SITUACAO_CADASTRAL','MOTIVO_SITUACAO_CADASTRAL','NM_CIDADE_EXT','PAIS','DT_INICIO_ATIVIDADE',\n",
    "                'CNAE_PRINCIPAL','CNAE_SECUNDARIO','TIPO_LOGRADOURO','LOGRADOURO','NUMERO', 'COMPLEMENTO','BAIRRO',\n",
    "                'CEP', 'UF','MUNICIPIO','DDD1', 'TELEFONE1','DDD2', 'TELEFONE2','DDD_FAX', 'TELEFONE_FAX','EMAIL',\n",
    "                'SITUACAO_ESPECIAL','DT_SITUACAO_ESPECIAL']\n",
    "    colunas_selecionadas = header\n",
    "\n",
    "    # RODANDO A CONSULTA\n",
    "    estabs = Consulta_cnpj_lista_arquivos(input_cnpj=cnpj , \n",
    "                                            lista_arquivos=arquivos_estabelecimento , \n",
    "                                            header_arquivos=header , \n",
    "                                            filtro_colunas=colunas_selecionadas)\n",
    "    \n",
    "#    --------------------------------------------------------------------------------------------------\n",
    "    # INPUTS SOCIOS  \n",
    "    header  =   ['CNPJ_BASICO', 'IDENTIFICADOR_SOCIO','NOME_SOCIO_RAZAO_SOCIAL','CPF_CNPJ_SOCIO','QUALIFICACAO_SOCIO',\n",
    "                 'DT_ENTRADA_SOCIEDADE','PAIS','REPRESENTANTE_LEGAL','NOME_REPRESENTANTE','QUALIFICACAO_REPRESENTANTE_LEGAL',\n",
    "                 'FAIXA_ETARIA']\n",
    "    colunas_selecionadas = header\n",
    "\n",
    "    # RODANDO A CONSULTA\n",
    "    socios = Consulta_cnpj_lista_arquivos(input_cnpj=cnpj , \n",
    "                                            lista_arquivos=arquivos_socios , \n",
    "                                            header_arquivos=header , \n",
    "                                            filtro_colunas=colunas_selecionadas)\n",
    "    \n",
    "    \n",
    "    return tabelas_complementares(estabelecimentos=estabs,empresas=empresas,socios=socios)\n",
    "\n",
    "# ================================================================================================================\n",
    "\n",
    "def tabelas_complementares(estabelecimentos, socios, empresas):\n",
    "    # Tabelas auxiliares\n",
    "    cidades = pd.read_csv('a.Municipios/Municipios.csv', header= None , encoding='ISO-8859-1', sep=';')\n",
    "    cidades.columns = ['MUNICIPIO','nome_municipio']\n",
    "\n",
    "    naturezas  = pd.read_csv('a.Naturezas/naturezas.csv', header= None , encoding='ISO-8859-1', sep=';')\n",
    "    naturezas.columns= ['NATUREZA_JURIDICA','desc_natureza_juridica']\n",
    "\n",
    "    qualificacoes = pd.read_csv('a.Qualificacoes/qualificacoes.csv', header= None , encoding='ISO-8859-1', sep=';')\n",
    "    qualificacoes.columns = ['QUALIFICACAO_SOCIO','desc_qualificacao']\n",
    "      \n",
    "    cnae = pd.read_csv('a.Cnaes/cnaes_descricao.csv', header= None , encoding='ISO-8859-1', sep=';')\n",
    "    cnae.columns = ['CNAE_PRINCIPAL','descricao_cnae']\n",
    "    \n",
    "    # tabela com a descrição da faixa etaria dos socios\n",
    "    index = [0,1,2,3,4,5,6,7,8,9]\n",
    "    faixa_idade =[ 'Não se aplica', 'entre 0 a 12 anos', 'entre 13 a 20 anos','entre 21 a 30 anos','entre 31 a 40 anos',\n",
    "    'entre 41 a 50 anos','entre 51 a 60 anos','entre 61 a 70 anos','entre 71 a 80 anos','maiores de 80 anos' ]\n",
    "    df_faixa_etaria = pd.DataFrame({'FAIXA_ETARIA': index,\n",
    "                                    'faixa_idade_socio':faixa_idade})\n",
    "\n",
    "    # tabela com a descrição se o socio é PJ, PF ou estrangeiro\n",
    "    ind =[1,2,3]\n",
    "    desc_ind = ['Pessoa Física','Pessoa Jurídica','Estrangeiro']\n",
    "    indenficador_socio = pd.DataFrame({'IDENTIFICADOR_SOCIO':ind,\n",
    "                                       'id_socio_descricao':desc_ind})\n",
    "\n",
    "    # tabela para identicar matriz e filial\n",
    "    matriz_filial = pd.DataFrame({'ID_MATRIZ_FILIAL':[1,2],\n",
    "                              'matriz_filial':['Matriz','Filial']})\n",
    "    # porte da empresa\n",
    "    porte_emp =  pd.DataFrame({'PORTE_EMPRESA':[0,1,3,5],\n",
    "                              'Desc_Porte_empresa':['Não Informado','Micro','Pequeno porte','Não Micro/Pequena empresa']})\n",
    "    # situação cadastral\n",
    "    situacao_cadast =  pd.DataFrame({'SITUACAO_CADASTRAL':[1,2,3,4,8],\n",
    "                              'Desc_Situacao_Cadastral':['Nula','Ativa','Suspensa','Inapta','Baixada']})\n",
    "    \n",
    "# --------------------------------------------------------------------------------------------------------------------------\n",
    "    # fazendo os JOIN's das tabelas estab, empresas e socios\n",
    "    df= pd.merge(socios,empresas, on = 'CNPJ_BASICO')\n",
    "    df = pd.merge(df,estabelecimentos, on = 'CNPJ_BASICO')\n",
    "\n",
    "    # fazendo os JOIN's com as tabelas complemetares\n",
    "    df = pd.merge(df,cidades, on ='MUNICIPIO')\n",
    "    df = pd.merge(df,indenficador_socio, on ='IDENTIFICADOR_SOCIO')\n",
    "    df = pd.merge(df,df_faixa_etaria, on ='FAIXA_ETARIA')\n",
    "    df = pd.merge(df,matriz_filial, on = 'ID_MATRIZ_FILIAL')\n",
    "    df = pd.merge(df,cnae, on = 'CNAE_PRINCIPAL')\n",
    "    df = pd.merge(df,naturezas, on = 'NATUREZA_JURIDICA')\n",
    "    df = pd.merge(df,qualificacoes, on = 'QUALIFICACAO_SOCIO')\n",
    "    df = pd.merge(df,porte_emp, on = 'PORTE_EMPRESA')\n",
    "    df = pd.merge(df,situacao_cadast, on = 'SITUACAO_CADASTRAL')\n",
    "\n",
    "# --------------------------------------------------------------------------------------------------------------------------\n",
    "   \n",
    "    # formatando as datas\n",
    "    df['Data_ini_Atividade'] = df['DT_INICIO_ATIVIDADE'].astype(str).apply(lambda x : x[6:]) + '/' + \\\n",
    "                                df['DT_INICIO_ATIVIDADE'].astype(str).apply(lambda x : x[4:6]) + '/' + \\\n",
    "                                df['DT_INICIO_ATIVIDADE'].astype(str).apply(lambda x : x[0:4])\n",
    "    \n",
    "    df['Data_entrada_sociedade'] = df['DT_ENTRADA_SOCIEDADE'].astype(str).apply(lambda x : x[6:]) + '/' + \\\n",
    "                                    df['DT_ENTRADA_SOCIEDADE'].astype(str).apply(lambda x : x[4:6]) + '/' + \\\n",
    "                                    df['DT_ENTRADA_SOCIEDADE'].astype(str).apply(lambda x : x[0:4])\n",
    "    \n",
    "    df['Data_situacao_cadastral'] = df['DT_SITUACAO_CADASTRAL'].astype(str).apply(lambda x : x[6:]) + '/' + \\\n",
    "                                    df['DT_SITUACAO_CADASTRAL'].astype(str).apply(lambda x : x[4:6]) + '/' + \\\n",
    "                                    df['DT_SITUACAO_CADASTRAL'].astype(str).apply(lambda x : x[0:4])\n",
    "\n",
    "# --------------------------------------------------------------------------------------------------------------------------\n",
    "    # selecionando as variaveis \n",
    "    cols = ['CNPJ_BASICO','matriz_filial','RAZAO_SOCIAL_NOME_EMPRESARIAL', 'NOME_FANTASIA', 'Desc_Situacao_Cadastral', \n",
    "            'Desc_Porte_empresa','CAPITAL_SOCIAL', 'Data_ini_Atividade','NOME_SOCIO_RAZAO_SOCIAL', 'CPF_CNPJ_SOCIO',\n",
    "            'desc_qualificacao','faixa_idade_socio','Data_entrada_sociedade','CNAE_PRINCIPAL', 'descricao_cnae',\n",
    "            'TIPO_LOGRADOURO', 'LOGRADOURO', 'NUMERO', 'COMPLEMENTO', 'BAIRRO','CEP', 'UF', 'MUNICIPIO',\n",
    "            'DDD1', 'TELEFONE1', 'DDD2', 'TELEFONE2','EMAIL',  'nome_municipio', 'desc_natureza_juridica']\n",
    "    df = df[cols]\n",
    "    return df"
   ]
  },
  {
   "cell_type": "markdown",
   "id": "b461bb8e",
   "metadata": {},
   "source": [
    "# Fim - Consulta CNPJ\n",
    "\n",
    "\n",
    "# Inicio -  Consulta CNAE"
   ]
  },
  {
   "cell_type": "code",
   "execution_count": 4,
   "id": "e951e489",
   "metadata": {},
   "outputs": [],
   "source": [
    "# # le um arquivo generico,importa o header e filtra as colunas e consulta o cnpj\n",
    "def Consulta_CNAE_arquivo( arq_csv , cnae_input ):\n",
    "#     import time\n",
    "#     start_time1 = time.time()\n",
    "    \n",
    "    nome_colunas  =  [ 'CNPJ_BASICO', 'CNPJ_ORDEM','CNPJ_DV','ID_MATRIZ_FILIAL','NOME_FANTASIA','SITUACAO_CADASTRAL',\n",
    "                        'DT_SITUACAO_CADASTRAL','MOTIVO_SITUACAO_CADASTRAL','NM_CIDADE_EXT','PAIS','DT_INICIO_ATIVIDADE',\n",
    "                        'CNAE_PRINCIPAL','CNAE_SECUNDARIO','TIPO_LOGRADOURO','LOGRADOURO','NUMERO', 'COMPLEMENTO','BAIRRO',\n",
    "                        'CEP', 'UF','MUNICIPIO','DDD1', 'TELEFONE1','DDD2', 'TELEFONE2','DDD_FAX', 'TELEFONE_FAX','EMAIL',\n",
    "                        'SITUACAO_ESPECIAL','DT_SITUACAO_ESPECIAL']\n",
    "    \n",
    "    col_filter=nome_colunas\n",
    "    \n",
    "    \n",
    "    chunk_size = 1000000\n",
    "    batch_no=0\n",
    "    df_output = pd.DataFrame()\n",
    "    \n",
    "    \n",
    "    for chunk in pd.read_csv(arq_csv, sep=';' ,  header= None , encoding='ISO-8859-1', low_memory=False, chunksize = chunk_size, iterator = True):\n",
    "        chunk.columns = nome_colunas\n",
    "        chunk=chunk[col_filter]\n",
    "        chunk = chunk.loc[chunk['CNAE_PRINCIPAL'].isin(cnae_input)]\n",
    "        df_output = pd.concat([df_output,chunk ],axis = 0)\n",
    "#     end_time1 = time.time()\n",
    "#     print(f'Função Consulta_CNAE_arquivo - output_shape {df_output.shape} -> program running: OK {round(end_time1-start_time1,2)} seg ou {round((end_time1-star_time1)/60,2)} min')\n",
    "    \n",
    "\n",
    "    return df_output\n"
   ]
  },
  {
   "cell_type": "code",
   "execution_count": 5,
   "id": "a6ef29f6",
   "metadata": {},
   "outputs": [],
   "source": [
    "def Consulta_CNAE_lista_arquivos(CNAE_INPUT , lista_arquivos):\n",
    "#     start_time = time.time()\n",
    "    df_output=pd.DataFrame()   \n",
    "    \n",
    "    \n",
    "    for ARQUIVO in lista_arquivos:\n",
    "           df_output = pd.concat([df_output,\n",
    "                                              Consulta_CNAE_arquivo(arq_csv=ARQUIVO,\n",
    "                                                                     cnae_input=CNAE_INPUT)],\n",
    "                                 axis=0)\n",
    "    \n",
    "    df_output.fillna('-')\n",
    "#     end_time = time.time()\n",
    "#     print('>')\n",
    "#     print(f'O Programa levou {end_time-start_time} segundos ou {(end_time-start_time)/60} minutos - Arquivo do tipo: {ARQUIVO}')\n",
    "#     print(f'foi {df_output.shape} ')\n",
    "    return df_output\n"
   ]
  },
  {
   "cell_type": "code",
   "execution_count": 6,
   "id": "84ad2fd3",
   "metadata": {},
   "outputs": [],
   "source": [
    "def Consulta_CNAE(CNAE_):\n",
    "    start_time = time.time()\n",
    "    \n",
    "    # Lista de arquivos para importar\n",
    "  \n",
    "    arquivo_estabs = ['K3241.K03200Y0.D21119.ESTABELE.csv',\n",
    "                                'K3241.K03200Y1.D21119.ESTABELE.csv',# esse arquivo é que tava faltando\n",
    "                                'K3241.K03200Y2.D21119.ESTABELE.csv',\n",
    "                                'K3241.K03200Y3.D21119.ESTABELE.csv',\n",
    "                                'K3241.K03200Y4.D21119.ESTABELE.csv',\n",
    "                                'K3241.K03200Y5.D21119.ESTABELE.csv',# esse arquivo é que tava faltando\n",
    "                                'K3241.K03200Y6.D21119.ESTABELE.csv',\n",
    "                                'K3241.K03200Y7.D21119.ESTABELE.csv',\n",
    "                                'K3241.K03200Y8.D21119.ESTABELE.csv',\n",
    "                                'K3241.K03200Y9.D21119.ESTABELE.csv']\n",
    "        \n",
    "    arquivo_empresas = ['K3241.K03200Y0.D210080.EMPRECSV.csv','K3241.K03200Y1.D210081.EMPRECSV.csv',\n",
    "                    'K3241.K03200Y2.D210082.EMPRECSV.csv','K3241.K03200Y3.D210083.EMPRECSV.csv',\n",
    "                    'K3241.K03200Y4.D210084.EMPRECSV.csv','K3241.K03200Y5.D210085.EMPRECSV.csv',\n",
    "                    'K3241.K03200Y6.D210086.EMPRECSV.csv','K3241.K03200Y7.D210087.EMPRECSV.csv',\n",
    "                    'K3241.K03200Y8.D210088.EMPRECSV.csv','K3241.K03200Y9.D210089.EMPRECSV.csv']\n",
    "\n",
    "\n",
    "    arquivos_socios = ['K3241.K03200Y0.D210080.SOCIOCSV.csv','K3241.K03200Y1.D210081.SOCIOCSV.csv',\n",
    "                  'K3241.K03200Y2.D210082.SOCIOCSV.csv','K3241.K03200Y3.D210083.SOCIOCSV.csv',\n",
    "                  'K3241.K03200Y4.D210084.SOCIOCSV.csv','K3241.K03200Y5.D210085.SOCIOCSV.csv',\n",
    "                  'K3241.K03200Y6.D210086.SOCIOCSV.csv','K3241.K03200Y7.D210087.SOCIOCSV.csv',\n",
    "                  'K3241.K03200Y8.D210088.SOCIOCSV.csv','K3241.K03200Y9.D210089.SOCIOCSV.csv']\n",
    "    \n",
    "    # INPUTS ESTABELECIMENTOS\n",
    "\n",
    "    estabs = Consulta_CNAE_lista_arquivos(CNAE_INPUT=CNAE_,\n",
    "                                          lista_arquivos=arquivo_estabs)\n",
    "\n",
    "\n",
    "    #    --------------------------------------------------------------------------------------------------\n",
    "    # INPUTS EMPRESAS\n",
    "\n",
    "    CNPJ_ = estabs['CNPJ_BASICO']\n",
    "\n",
    "    header  =  ['CNPJ_BASICO', 'RAZAO_SOCIAL_NOME_EMPRESARIAL','NATUREZA_JURIDICA','QUALIFICACAO_RESPONSAVEL',\n",
    "                    'CAPITAL_SOCIAL','PORTE_EMPRESA','ENTE_FEDERATIVO_RESPONSAVEL']\n",
    "    colunas_selecionadas = header\n",
    "\n",
    "    # RODANDO A CONSULTA\n",
    "    empresas = Consulta_cnpj_lista_arquivos(input_cnpj=CNPJ_ , \n",
    "                                        lista_arquivos=arquivo_empresas , \n",
    "                                        header_arquivos=header , \n",
    "                                        filtro_colunas=colunas_selecionadas)\n",
    "    #    --------------------------------------------------------------------------------------------------\n",
    "    # INPUTS SOCIOS  \n",
    "    header  =   ['CNPJ_BASICO', 'IDENTIFICADOR_SOCIO','NOME_SOCIO_RAZAO_SOCIAL','CPF_CNPJ_SOCIO','QUALIFICACAO_SOCIO',\n",
    "             'DT_ENTRADA_SOCIEDADE','PAIS','REPRESENTANTE_LEGAL','NOME_REPRESENTANTE','QUALIFICACAO_REPRESENTANTE_LEGAL',\n",
    "             'FAIXA_ETARIA']\n",
    "    colunas_selecionadas = header\n",
    "\n",
    "    # RODANDO A CONSULTA\n",
    "    socios = Consulta_cnpj_lista_arquivos(input_cnpj=CNPJ_ , \n",
    "                                        lista_arquivos=arquivos_socios , \n",
    "                                        header_arquivos=header , \n",
    "                                        filtro_colunas=colunas_selecionadas)\n",
    "\n",
    "    \n",
    "    end_time = time.time()\n",
    "    print(f'time running Consulta_CNAE {round(end_time-start_time)} segundos ou {round((end_time-start_time)/60,1)} minutos')\n",
    "    \n",
    "    return tabelas_complementares(estabelecimentos=estabs,empresas=empresas,socios=socios)\n"
   ]
  },
  {
   "cell_type": "markdown",
   "id": "20db27f8",
   "metadata": {},
   "source": [
    "# Fim - Consulta_cnae\n",
    "\n",
    "\n",
    "# Inicio - Função para criar faixas "
   ]
  },
  {
   "cell_type": "code",
   "execution_count": 7,
   "id": "df985a01",
   "metadata": {},
   "outputs": [],
   "source": [
    "bins = [0, 1000, 2000, 4000,5000, float('inf')]\n",
    "labels = ['0','1 to 1M', '1M to 2M', '2M to 4M', 'Greater than 5M']\n",
    "\n",
    "def create_label_in_df(variable_name ,cut_variable, label_names,bins_input,data_frame):\n",
    "    '''\n",
    "    Exemplo:\n",
    "        dataframe = dataframe pronto, ja com a variavel em questao formatada\n",
    "        variable_name = nome da nova colunado dataframe em formato de texto\n",
    "        cut_variable = nome da variavel de referencia em formato texto\n",
    "        \n",
    "        bins = [0, 1_000_000, 2_000_000, 4_000_000,5_000_000, float('inf')]\n",
    "        labels = ['0','1 to 1M', '1M to 2M', '2M to 4M', 'Greater than 5M']\n",
    "                \n",
    "        \n",
    "       df_final = create_label_in_df(variable_name = 'FX_CAP_SOCIAL',\n",
    "                                       cut_variable='CAPITAL_SOCIAL',\n",
    "                                       label_names=labels,\n",
    "                                       bins_input=bins,\n",
    "                                       data_frame=df1)\n",
    "                               \n",
    "    '''\n",
    "    df = data_frame\n",
    "    df[f'{variable_name}'] = pd.cut(df[f'{cut_variable}'], bins=bins_input, labels=label_names)\n",
    "    return df"
   ]
  },
  {
   "cell_type": "markdown",
   "id": "f4d85541",
   "metadata": {},
   "source": [
    "# Aqui começa o  codigo \n",
    "\n",
    "\n",
    "\n",
    "### Os cnaes consultados foram :\n",
    "\n",
    "\n",
    "1. 3292202\tFabricação de equipamentos e acessórios para segurança pessoal e profissional\n",
    "2. 4645101\tComércio atacadista de instrumentos e materiais para uso médico, cirúrgico, hospitalar e de laboratórios\n",
    "3. 4773300\tComércio varejista de artigos médicos e ortopédicos\n",
    "4. 4664800\tComércio atacadista de máquinas, aparelhos e equipamentos para uso odonto-médico-hospitalar; partes e peças\n",
    "5. 4711302  COMÉRCIO VAREJISTA DE MERCADORIAS EM GERAL, COM PREDOMINÂNCIA DE PRODUTOS ALIMENTÍCIOS - SUPERMERCADOS\n",
    "6. 4713004  LOJAS DE DEPARTAMENTOS OU MAGAZINES, EXCETO LOJAS FRANCAS (DUTY FREE)\n",
    "7. 4781400  COMÉRCIO VAREJISTA DE ARTIGOS DO VESTUÁRIO E ACESSÓRIOS"
   ]
  },
  {
   "cell_type": "markdown",
   "id": "710aaa60",
   "metadata": {},
   "source": [
    "# Consultando os cnaes "
   ]
  },
  {
   "cell_type": "code",
   "execution_count": null,
   "id": "f4631720",
   "metadata": {},
   "outputs": [],
   "source": [
    "# consultando os cnaes \n",
    "\n",
    "df_fim = Consulta_CNAE([\n",
    "#     4753900\n",
    "#                         ,\n",
    "    4757100\n",
    "#     ,4752100,4751200\n",
    "                        ])\n",
    "\n",
    "print(f'O tamanho da matriz é {df_fim.shape}')\n",
    "\n",
    "df_fim.head(2)"
   ]
  },
  {
   "cell_type": "markdown",
   "id": "a9cf7ca8",
   "metadata": {},
   "source": [
    "# o resultado esta aqui em cima ^"
   ]
  },
  {
   "cell_type": "code",
   "execution_count": 25,
   "id": "f05276b4",
   "metadata": {},
   "outputs": [
    {
     "name": "stdout",
     "output_type": "stream",
     "text": [
      "numero de CNPJ Distintos: 323149\n"
     ]
    }
   ],
   "source": [
    "print(f'numero de CNPJ Distintos: {len(df_fim.CNPJ_BASICO.unique())}')"
   ]
  },
  {
   "cell_type": "code",
   "execution_count": 26,
   "id": "2a91249b",
   "metadata": {},
   "outputs": [
    {
     "name": "stdout",
     "output_type": "stream",
     "text": [
      "numero de Empresas Distintas: 315913\n"
     ]
    }
   ],
   "source": [
    "print(f'numero de Empresas Distintas: {len(df_fim.RAZAO_SOCIAL_NOME_EMPRESARIAL.unique())}')"
   ]
  },
  {
   "cell_type": "code",
   "execution_count": 20,
   "id": "9a9044b2",
   "metadata": {},
   "outputs": [
    {
     "data": {
      "text/plain": [
       "Index(['CNPJ_BASICO', 'matriz_filial', 'RAZAO_SOCIAL_NOME_EMPRESARIAL',\n",
       "       'NOME_FANTASIA', 'Desc_Situacao_Cadastral', 'Desc_Porte_empresa',\n",
       "       'CAPITAL_SOCIAL', 'Data_ini_Atividade', 'NOME_SOCIO_RAZAO_SOCIAL',\n",
       "       'CPF_CNPJ_SOCIO', 'desc_qualificacao', 'faixa_idade_socio',\n",
       "       'Data_entrada_sociedade', 'CNAE_PRINCIPAL', 'descricao_cnae',\n",
       "       'TIPO_LOGRADOURO', 'LOGRADOURO', 'NUMERO', 'COMPLEMENTO', 'BAIRRO',\n",
       "       'CEP', 'UF', 'MUNICIPIO', 'DDD1', 'TELEFONE1', 'DDD2', 'TELEFONE2',\n",
       "       'EMAIL', 'nome_municipio', 'desc_natureza_juridica'],\n",
       "      dtype='object')"
      ]
     },
     "execution_count": 20,
     "metadata": {},
     "output_type": "execute_result"
    }
   ],
   "source": [
    "# df_fim.columns"
   ]
  },
  {
   "cell_type": "markdown",
   "id": "b797a367",
   "metadata": {},
   "source": [
    "# Filtros"
   ]
  },
  {
   "cell_type": "code",
   "execution_count": 27,
   "id": "09fb62ab",
   "metadata": {},
   "outputs": [
    {
     "data": {
      "text/plain": [
       "(85223, 30)"
      ]
     },
     "execution_count": 27,
     "metadata": {},
     "output_type": "execute_result"
    }
   ],
   "source": [
    "# filtrei as empresas ativas\n",
    "df1 = df_fim[df_fim['Desc_Situacao_Cadastral'] == 'Ativa' ]\n",
    "# empresas NAO micro\n",
    "df1= df1[df1['Desc_Porte_empresa'] !='Micro']\n",
    "# drop_duplicates\n",
    "df1= df1.drop_duplicates()\n",
    "df1.shape"
   ]
  },
  {
   "cell_type": "code",
   "execution_count": 24,
   "id": "5d7b0040",
   "metadata": {},
   "outputs": [],
   "source": [
    "# df1['UF'].unique()\n",
    "# filtro=['ES','RJ','SP','MG','RS','SC','PR']\n",
    "# filtro = ['RJ']\n",
    "# df1 = df1.loc[df1['UF'].isin( filtro)]\n",
    "# df1.head(2)"
   ]
  },
  {
   "cell_type": "markdown",
   "id": "cdca7853",
   "metadata": {},
   "source": [
    "# Export"
   ]
  },
  {
   "cell_type": "code",
   "execution_count": 28,
   "id": "8a7299d8",
   "metadata": {},
   "outputs": [],
   "source": [
    "df1.to_excel('2023_02_13_comercio_varejista_vestuario_acessorio.xlsx',index=None)\n",
    "\n",
    "# COMÉRCIO VAREJISTA DE MERCADORIAS EM GERAL, COM PREDOMINÂNCIA DE PRODUTOS ALIMENTÍCIOS - SUPERMERCADOS"
   ]
  },
  {
   "cell_type": "markdown",
   "id": "e07a180f",
   "metadata": {},
   "source": [
    "# Rascunho"
   ]
  }
 ],
 "metadata": {
  "kernelspec": {
   "display_name": "Python 3",
   "language": "python",
   "name": "python3"
  },
  "language_info": {
   "codemirror_mode": {
    "name": "ipython",
    "version": 3
   },
   "file_extension": ".py",
   "mimetype": "text/x-python",
   "name": "python",
   "nbconvert_exporter": "python",
   "pygments_lexer": "ipython3",
   "version": "3.9.12"
  }
 },
 "nbformat": 4,
 "nbformat_minor": 5
}
